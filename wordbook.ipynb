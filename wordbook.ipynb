{
 "cells": [
  {
   "cell_type": "code",
   "execution_count": 78,
   "metadata": {},
   "outputs": [],
   "source": [
    "import pandas as pd\n",
    "import numpy\n",
    "import ydcv\n",
    "import sys\n",
    "sys.path.append('./mdictlib')"
   ]
  },
  {
   "cell_type": "code",
   "execution_count": 80,
   "metadata": {},
   "outputs": [],
   "source": [
    "from mdict_query import IndexBuilder\n",
    "builder = IndexBuilder('./Collins.mdx')"
   ]
  },
  {
   "cell_type": "code",
   "execution_count": 84,
   "metadata": {},
   "outputs": [],
   "source": [
    "def has_explains(result):\n",
    "    return ('basic' in result) and ('explains' in result['basic'])\n",
    "\n",
    "def get_explian_from_result(result):\n",
    "    if not has_explains(result):\n",
    "        return ''\n",
    "    return ';'.join(result['basic']['explains'])\n",
    "\n",
    "def translate_from_yd(word):\n",
    "    result = ydcv.lookup_word_inner(word)\n",
    "    return result\n",
    "\n",
    "def if_in_collins(word):\n",
    "    return len(builder.mdx_lookup(word)) > 0"
   ]
  },
  {
   "cell_type": "code",
   "execution_count": 3,
   "metadata": {
    "scrolled": true
   },
   "outputs": [
    {
     "data": {
      "text/html": [
       "<div>\n",
       "<style scoped>\n",
       "    .dataframe tbody tr th:only-of-type {\n",
       "        vertical-align: middle;\n",
       "    }\n",
       "\n",
       "    .dataframe tbody tr th {\n",
       "        vertical-align: top;\n",
       "    }\n",
       "\n",
       "    .dataframe thead th {\n",
       "        text-align: right;\n",
       "    }\n",
       "</style>\n",
       "<table border=\"1\" class=\"dataframe\">\n",
       "  <thead>\n",
       "    <tr style=\"text-align: right;\">\n",
       "      <th></th>\n",
       "      <th>worlds</th>\n",
       "    </tr>\n",
       "  </thead>\n",
       "  <tbody>\n",
       "    <tr>\n",
       "      <th>6</th>\n",
       "      <td>accompanying</td>\n",
       "    </tr>\n",
       "    <tr>\n",
       "      <th>62</th>\n",
       "      <td>annoying</td>\n",
       "    </tr>\n",
       "    <tr>\n",
       "      <th>69</th>\n",
       "      <td>appealing</td>\n",
       "    </tr>\n",
       "    <tr>\n",
       "      <th>91</th>\n",
       "      <td>ascending</td>\n",
       "    </tr>\n",
       "    <tr>\n",
       "      <th>101</th>\n",
       "      <td>astonishing</td>\n",
       "    </tr>\n",
       "  </tbody>\n",
       "</table>\n",
       "</div>"
      ],
      "text/plain": [
       "           worlds\n",
       "6    accompanying\n",
       "62       annoying\n",
       "69      appealing\n",
       "91      ascending\n",
       "101   astonishing"
      ]
     },
     "execution_count": 3,
     "metadata": {},
     "output_type": "execute_result"
    }
   ],
   "source": [
    "df1 = pd.read_csv('./2018.12.20-wordbook-neat.txt',names=['worlds'])\n",
    "df1 = df1.sort_values(by = 'worlds')\n",
    "df1['yd_explain'] = df1['worlds'].apply(lambda x :translate_from_yd(x))\n",
    "df1['expalins'] = df1['yd_explain'].apply(get_explian_from_result)\n",
    "origin_word = df1['expalins'].str.extractall(r'[（\\(]([a-z]+)的.*[）\\)]').unstack()\n",
    "df2 = df1.copy()\n",
    "df2.loc[list(origin_word[0].index)] = origin_word[0]\n",
    "df2 = df2.reindex(columns=['worlds','expalins'])\n",
    "df2 = df2.drop_duplicates('worlds')\n",
    "df_not_in_collins = df2[df2['worlds'].apply(lambda x: if_in_collins(x))]"
   ]
  },
  {
   "cell_type": "code",
   "execution_count": 90,
   "metadata": {},
   "outputs": [],
   "source": [
    "df1.to_json('./words_queried_by_youdao.json')\n",
    "df_not_in_collins.to_csv('./df_not_in_collins.csv')"
   ]
  },
  {
   "cell_type": "code",
   "execution_count": 92,
   "metadata": {},
   "outputs": [],
   "source": [
    "df_not_in_collins['worlds'].to_csv('./neat_word_list.csv')"
   ]
  }
 ],
 "metadata": {
  "kernelspec": {
   "display_name": "Python 3",
   "language": "python",
   "name": "python3"
  },
  "language_info": {
   "codemirror_mode": {
    "name": "ipython",
    "version": 3
   },
   "file_extension": ".py",
   "mimetype": "text/x-python",
   "name": "python",
   "nbconvert_exporter": "python",
   "pygments_lexer": "ipython3",
   "version": "3.7.0"
  }
 },
 "nbformat": 4,
 "nbformat_minor": 2
}
